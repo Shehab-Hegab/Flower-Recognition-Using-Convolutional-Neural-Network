{
 "cells": [
  {
   "cell_type": "code",
   "execution_count": 8,
   "metadata": {},
   "outputs": [],
   "source": [
    "import numpy as np \n",
    "import pandas as pd \n",
    "import cv2 \n",
    "import matplotlib.pyplot as plt \n",
    "from PIL import Image \n",
    "from tensorflow.keras import layers \n",
    "from tensorflow.keras.preprocessing.image import ImageDataGenerator, load_img \n",
    "from tensorflow.keras.models import Sequential \n",
    "from tensorflow.keras.layers import Conv2D, MaxPooling2D \n",
    "from tensorflow.keras.layers import Activation, Dropout, Flatten, Dense \n",
    "from tensorflow.keras.optimizers import Adam \n",
    "import tensorflow as tf \n",
    "import os\n"
   ]
  },
  {
   "cell_type": "code",
   "execution_count": 9,
   "metadata": {},
   "outputs": [],
   "source": [
    "base_dir = '/flowers/'\n",
    "\n",
    "img_size = 224\n",
    "batch = 64\n"
   ]
  },
  {
   "cell_type": "markdown",
   "metadata": {},
   "source": [
    "# Image Data Generator\n",
    "For image data generator, follow the code given below."
   ]
  },
  {
   "cell_type": "code",
   "execution_count": null,
   "metadata": {},
   "outputs": [],
   "source": [
    "# Create a data augmentor \n",
    "train_datagen = ImageDataGenerator(rescale=1. / 255, shear_range=0.2, \n",
    "\t\t\t\t\t\t\t\tzoom_range=0.2, horizontal_flip=True, \n",
    "\t\t\t\t\t\t\t\tvalidation_split=0.2) \n",
    "\n",
    "test_datagen = ImageDataGenerator(rescale=1. / 255, \n",
    "\t\t\t\t\t\t\t\tvalidation_split=0.2) \n",
    "\n",
    "# Create datasets \n",
    "train_datagen = train_datagen.flow_from_directory(base_dir, \n",
    "\t\t\t\t\t\t\t\t\t\t\t\ttarget_size=( \n",
    "\t\t\t\t\t\t\t\t\t\t\t\t\timg_size, img_size), \n",
    "\t\t\t\t\t\t\t\t\t\t\t\tsubset='training', \n",
    "\t\t\t\t\t\t\t\t\t\t\t\tbatch_size=batch) \n",
    "test_datagen = test_datagen.flow_from_directory(base_dir, \n",
    "\t\t\t\t\t\t\t\t\t\t\t\ttarget_size=( \n",
    "\t\t\t\t\t\t\t\t\t\t\t\t\timg_size, img_size), \n",
    "\t\t\t\t\t\t\t\t\t\t\t\tsubset='validation', \n",
    "\t\t\t\t\t\t\t\t\t\t\t\tbatch_size=batch) \n"
   ]
  },
  {
   "cell_type": "code",
   "execution_count": null,
   "metadata": {},
   "outputs": [],
   "source": [
    "# # modelling starts using a CNN. \n",
    "\n",
    "model = Sequential() \n",
    "model.add(Conv2D(filters=64, kernel_size=(5, 5), padding='same', \n",
    "\t\t\t\tactivation='relu', input_shape=(224, 224, 3))) \n",
    "model.add(MaxPooling2D(pool_size=(2, 2))) \n",
    "\n",
    "\n",
    "model.add(Conv2D(filters=64, kernel_size=(3, 3), \n",
    "\t\t\t\tpadding='same', activation='relu')) \n",
    "model.add(MaxPooling2D(pool_size=(2, 2), strides=(2, 2))) \n",
    "\n",
    "\n",
    "model.add(Conv2D(filters=64, kernel_size=(3, 3), \n",
    "\t\t\t\tpadding='same', activation='relu')) \n",
    "model.add(MaxPooling2D(pool_size=(2, 2), strides=(2, 2))) \n",
    "\n",
    "model.add(Conv2D(filters=64, kernel_size=(3, 3), \n",
    "\t\t\t\tpadding='same', activation='relu')) \n",
    "model.add(MaxPooling2D(pool_size=(2, 2), strides=(2, 2))) \n",
    "\n",
    "model.add(Flatten()) \n",
    "model.add(Dense(512)) \n",
    "model.add(Activation('relu')) \n",
    "model.add(Dense(5, activation=\"softmax\")) \n"
   ]
  },
  {
   "cell_type": "code",
   "execution_count": null,
   "metadata": {},
   "outputs": [],
   "source": [
    "model.summary()\n"
   ]
  },
  {
   "cell_type": "code",
   "execution_count": null,
   "metadata": {},
   "outputs": [],
   "source": [
    "keras.utils.plot_model( \n",
    "\tmodel, \n",
    "\tshow_shapes = True, \n",
    "\tshow_dtype = True, \n",
    "\tshow_layer_activations = True\n",
    ")\n"
   ]
  },
  {
   "cell_type": "code",
   "execution_count": 14,
   "metadata": {},
   "outputs": [],
   "source": [
    "model.compile(optimizer=tf.keras.optimizers.Adam(), \n",
    "\t\t\tloss='categorical_crossentropy', metrics=['accuracy']) \n"
   ]
  },
  {
   "cell_type": "markdown",
   "metadata": {},
   "source": [
    "# Fitting\n",
    "\n",
    "Model Fitting will take some time."
   ]
  },
  {
   "cell_type": "code",
   "execution_count": null,
   "metadata": {},
   "outputs": [],
   "source": [
    "epochs=30\n",
    "model.fit(train_datagen,epochs=epochs,validation_data=test_datagen)\n"
   ]
  },
  {
   "cell_type": "code",
   "execution_count": null,
   "metadata": {},
   "outputs": [],
   "source": [
    "from tensorflow.keras.models import load_model \n",
    "model.save('Model.h5') \n",
    "\n",
    "# load model \n",
    "savedModel=load_model('Model.h5')\n"
   ]
  },
  {
   "cell_type": "code",
   "execution_count": null,
   "metadata": {},
   "outputs": [],
   "source": [
    "train_datagen.class_indices\n"
   ]
  },
  {
   "cell_type": "code",
   "execution_count": null,
   "metadata": {},
   "outputs": [],
   "source": [
    "from keras.preprocessing import image \n",
    "\n",
    "#Creating list for mapping \n",
    "list_ = ['Daisy','Danelion','Rose','sunflower', 'tulip'] \n",
    "\n",
    "#Input image \n",
    "test_image = image.load_img('img.jpg',target_size=(224,224)) \n",
    "\n",
    "#For show image \n",
    "plt.imshow(test_image) \n",
    "test_image = image.img_to_array(test_image) \n",
    "test_image = np.expand_dims(test_image,axis=0) \n",
    "\n",
    "# Result array \n",
    "result = savedModel.predict(test_image) \n",
    "print(result) \n",
    "\n",
    "#Mapping result array with the main name list \n",
    "i=0\n",
    "for i in range(len(result[0])): \n",
    "if(result[0][i]==1): \n",
    "\tprint(list_[i]) \n",
    "\tbreak\n"
   ]
  },
  {
   "cell_type": "code",
   "execution_count": null,
   "metadata": {},
   "outputs": [],
   "source": [
    "#Input image \n",
    "test_image = image.load_img('img2.jpg',target_size=(224,224)) \n",
    "\n",
    "#For show image \n",
    "plt.imshow(test_image) \n",
    "test_image = image.img_to_array(test_image) \n",
    "test_image = np.expand_dims(test_image,axis=0) \n",
    "\n",
    "# Result array \n",
    "result = savedModel.predict(test_image) \n",
    "print(result) \n",
    "\n",
    "#Mapping result array with the main name list \n",
    "i=0\n",
    "for i in range(len(result[0])): \n",
    "if(result[0][i]==1): \n",
    "\tprint(list_[i]) \n",
    "\tbreak\n"
   ]
  }
 ],
 "metadata": {
  "kernelspec": {
   "display_name": "Python 3",
   "language": "python",
   "name": "python3"
  },
  "language_info": {
   "codemirror_mode": {
    "name": "ipython",
    "version": 3
   },
   "file_extension": ".py",
   "mimetype": "text/x-python",
   "name": "python",
   "nbconvert_exporter": "python",
   "pygments_lexer": "ipython3",
   "version": "3.11.9"
  }
 },
 "nbformat": 4,
 "nbformat_minor": 2
}
